{
 "cells": [
  {
   "cell_type": "markdown",
   "metadata": {},
   "source": [
    "# Tutorial 3: Operator\n",
    "\n",
    "In FastEstimator, the most important concept is `Operator`, which is used extensively in `RecordWriter`, `Pipeline` and `Network`. In this tutorial, we're going to talk about everything you need to know about `Operator`.\n",
    "\n",
    "Let's start with a short version: `Operator` is a class that works like a function.\n",
    "\n",
    "As we all know, a function has 3 compoents: input variable(s), transformation logics and output variable(s). Similarly, an `Operator` has 3 parts: input key(s), transformation fuction and output key(s). \n",
    "\n",
    "Now you may think: \"`Operator` and function are almost the same, what's different between them? why do we need it?\"\n",
    "\n",
    "Here's the difference: function uses variable and `Operator` uses keys (which is a representation of variable). \n",
    "\n",
    "Here's why: the purpose of `Operator` is to allow users to construct a graph when variables are not created yet. In FastEstimator, we take care of the creation, routing and management of all variables such that users can have a good sleep at night.  "
   ]
  },
  {
   "cell_type": "markdown",
   "metadata": {},
   "source": [
    "## How Operator works"
   ]
  },
  {
   "cell_type": "markdown",
   "metadata": {},
   "source": [
    "Assuming our data is in a dictionary format with key-value pairs, and an `Operator` named `Add_one` which add 1 to whatever input key is given:\n",
    "```python\n",
    "class Add_one(Operator):\n",
    "\"\"\"\n",
    "assuming it is already defined, we will talk about how to define Operator later.\n",
    "\"\"\"\n",
    "\n",
    "data = {\"x\":1, \"y\":2}\n",
    "\n",
    "```\n",
    "\n",
    "What we want is to add 1 to the value associated with key `x`, we can simply do:\n",
    "\n",
    "```python\n",
    "\n",
    "Add_one(inputs=\"x\", outputs=\"x\")\n",
    "```\n",
    "At run time, what the operator will do is:\n",
    "\n",
    "1. take the value of the input key 'x' from the data dictionary\n",
    "2. apply transformation functions to the value\n",
    "3. write the output value to the data dictionary with output key 'x'\n",
    "\n",
    "As a result, the data will become:\n",
    "```python\n",
    "{\"x\":2, \"y\":2}\n",
    "\n",
    "```\n",
    "\n",
    "Now let's add 1 to the value of `x` again and write the output to a new key `z`:\n",
    "```python\n",
    "\n",
    "Add_one(inputs=\"x\", outputs=\"z\")\n",
    "```\n",
    "data then becomes:\n",
    "```python\n",
    "{\"x\":2, \"y\":2, \"z\":3}\n",
    "\n",
    "```\n"
   ]
  },
  {
   "cell_type": "markdown",
   "metadata": {},
   "source": [
    "## How to express Operator connections in FastEstimator\n",
    "\n",
    "`Operator` can take multiple inputs and produce multiple outputs. One can see the true power of `Operator` when combining them in a sequence. The Figure below lists several examples of graph topologies enabled by lists of `Operator`. We will talk about `Schedule` in detail in future tutorials."
   ]
  },
  {
   "cell_type": "markdown",
   "metadata": {},
   "source": [
    "<img src=\"image/Ops.png\">"
   ]
  },
  {
   "cell_type": "markdown",
   "metadata": {},
   "source": [
    "## What are different types of Operators?\n",
    "\n",
    "On the base level, there are two types of `Operators`: `NumpyOp` and `TensorOp`. \n",
    "\n",
    "`NumpyOp` is used in the `ops` argument of `RecordWriter` only. Users can use any library inside the transformation function to calculate output. For example, users can call numpy, cv2, scipy functions etc. \n",
    "\n",
    "`TensorOp` is used in the `ops` argument of `Pipeline` and `Network`. Users are restricted to use tensor graph to construct the output. For example, the transformation logic has to be written in tensorfloew graph."
   ]
  },
  {
   "cell_type": "markdown",
   "metadata": {},
   "source": [
    "## Operator demo in FastEstimator\n",
    "\n",
    "Next we will showcase different usage of `Operator` in end-to-end deep learning task.  Let's start with same task as tutorial 2 and build more complex logics using `Operator`.\n",
    "\n",
    "Similar to tutorial 2, let's first generate some data images and csv files for later usage:"
   ]
  },
  {
   "cell_type": "code",
   "execution_count": 3,
   "metadata": {},
   "outputs": [
    {
     "name": "stdout",
     "output_type": "stream",
     "text": [
      "image data is generated in /var/folders/5g/d_ny7h211cj3zqkzrtq01s480000gn/T/.fe/Mnist\n"
     ]
    }
   ],
   "source": [
    "from fastestimator.dataset.mnist import load_data\n",
    "\n",
    "train_csv, eval_csv, data_path = load_data()\n",
    "\n",
    "print(\"image data is generated in {}\".format(data_path))"
   ]
  },
  {
   "cell_type": "markdown",
   "metadata": {},
   "source": [
    "### RecordWriter\n",
    "\n",
    "In the new task, given the csv files and trainig images, we want to do two preprocessing steps upfront:\n",
    "\n",
    "1. read the image in grey scale, read the label. (we will use existing Operator provided by FastEstimator)\n",
    "2. resale the image pixel value range, from [0, 255] to [-1, 1]. (We will customize an Operator to achieve this)"
   ]
  },
  {
   "cell_type": "code",
   "execution_count": 7,
   "metadata": {},
   "outputs": [],
   "source": [
    "from fastestimator.util.op import NumpyOp\n",
    "from fastestimator.record.preprocess import ImageReader\n",
    "import fastestimator as fe\n",
    "import numpy as np\n",
    "import os\n",
    "\n",
    "class Rescale(NumpyOp):\n",
    "    def forward(data, state):\n",
    "        data = (data - 127.5) / 127.5\n",
    "        return data\n",
    "\n",
    "writer = fe.RecordWriter(save_dir=os.path.join(data_path, \"FEdata\"),\n",
    "                         train_data=train_csv,\n",
    "                         validation_data=eval_csv,\n",
    "                         ops=[ImageReader(inputs=\"x\", parent_path=data_path, grey_scale=True), Rescale(outputs=\"x\")])"
   ]
  },
  {
   "cell_type": "markdown",
   "metadata": {},
   "source": [
    "Note that in the above ops sequence, `ImageReader` doesn't have outputs and "
   ]
  }
 ],
 "metadata": {
  "kernelspec": {
   "display_name": "Python 3",
   "language": "python",
   "name": "python3"
  },
  "language_info": {
   "codemirror_mode": {
    "name": "ipython",
    "version": 3
   },
   "file_extension": ".py",
   "mimetype": "text/x-python",
   "name": "python",
   "nbconvert_exporter": "python",
   "pygments_lexer": "ipython3",
   "version": "3.6.5"
  }
 },
 "nbformat": 4,
 "nbformat_minor": 2
}
