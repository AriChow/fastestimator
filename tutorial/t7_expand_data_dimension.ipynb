{
 "cells": [
  {
   "cell_type": "markdown",
   "metadata": {},
   "source": [
    "# Tutorial 7: expanding data dimension in recordwriter and pipeline\n",
    "\n",
    "In many applications (especially medical imaging), multiple examples are sampled from the same medical image, we call it data dimension expansion. In this tutorial we will show you how to do data dimension expansion in FastEstimator.\n",
    "\n",
    "In general, expanding data dimension can be achieved in both `RecordWriter` and `Pipeline`. Here are the differences:\n",
    "\n",
    "* Expanding data in `RecordWriter` means occupying more disk-space, and the expanded samples are fixed during the training. The good thing is that it saves computation during training.\n",
    "\n",
    "* Expanding data in `Pipeline` means \n",
    "\n",
    "\n"
   ]
  },
  {
   "cell_type": "code",
   "execution_count": null,
   "metadata": {},
   "outputs": [],
   "source": []
  }
 ],
 "metadata": {
  "kernelspec": {
   "display_name": "Python 3",
   "language": "python",
   "name": "python3"
  },
  "language_info": {
   "codemirror_mode": {
    "name": "ipython",
    "version": 3
   },
   "file_extension": ".py",
   "mimetype": "text/x-python",
   "name": "python",
   "nbconvert_exporter": "python",
   "pygments_lexer": "ipython3",
   "version": "3.6.5"
  }
 },
 "nbformat": 4,
 "nbformat_minor": 2
}
